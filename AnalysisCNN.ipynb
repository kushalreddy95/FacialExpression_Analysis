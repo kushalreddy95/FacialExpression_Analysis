{
 "cells": [
  {
   "cell_type": "code",
   "execution_count": 2,
   "metadata": {},
   "outputs": [],
   "source": [
    "import os\n",
    "import subprocess\n",
    "import pandas as pd\n",
    "import numpy as np\n",
    "import matplotlib.pyplot as plt\n",
    "import seaborn as sns\n",
    "import scipy\n",
    "from datetime import datetime\n",
    "from scipy import stats"
   ]
  },
  {
   "cell_type": "code",
   "execution_count": 3,
   "metadata": {},
   "outputs": [
    {
     "data": {
      "text/plain": [
       "'/Users/kushalreddy_p/ASU Studies/ASU Work/CSI Lab/DataLogs/DataSet/CNN'"
      ]
     },
     "execution_count": 3,
     "metadata": {},
     "output_type": "execute_result"
    }
   ],
   "source": [
    "os.chdir(\"../../DataSet/CNN\")\n",
    "os.getcwd()\n"
   ]
  },
  {
   "cell_type": "code",
   "execution_count": 4,
   "metadata": {},
   "outputs": [],
   "source": [
    "ind_NAR = pd.read_csv('NARdata.csv',index_col=0)\n",
    "ind_AR = pd.read_csv('Ardata.csv',index_col=0)\n",
    "ind_AR = ind_AR.replace(to_replace =\"Section3\", \n",
    "                 value =\"Section_3\") "
   ]
  },
  {
   "cell_type": "code",
   "execution_count": 5,
   "metadata": {},
   "outputs": [],
   "source": [
    "gp_cols1 = ['User']\n",
    "gp_cols2 = ['Section']\n",
    "gp_cols3 = ['User', 'Section']\n",
    "emo_cols = ['Angry','Disgust','Fear','Happy', 'Sad', 'Surprise', 'Neutral']\n",
    "sections = ['Section_0','Section_1','Section_2','Section_3']\n",
    "users = ['User_1','User_10','User_11','User_12','User_2','User_3','User_4','User_5','User_6','User_7','User_8','User_9']\n"
   ]
  },
  {
   "cell_type": "code",
   "execution_count": 6,
   "metadata": {},
   "outputs": [],
   "source": [
    "def generaye_Sec_Lists(df):\n",
    "    dict1= {}\n",
    "    id =0\n",
    "    \n",
    "    for user in users:\n",
    "        for sec in sections:  \n",
    "            if sec not in dict1.keys():\n",
    "                dict1[sec] = {}\n",
    "            temp = df.loc[(df['User']==user)&(df['Section']==sec)]\n",
    "            \n",
    "            for emo in emo_cols:\n",
    "                if emo not in dict1[sec].keys():\n",
    "                    dict1[sec][emo] = []\n",
    "                \n",
    "                if len(temp) == 0:\n",
    "                    \n",
    "                    dict1[sec][emo].append(0.0)\n",
    "                else:\n",
    "                    \n",
    "                    dict1[sec][emo].append(temp[emo][id])\n",
    "                \n",
    "            if len(temp)!=0:\n",
    "                id +=1\n",
    "    return dict1"
   ]
  },
  {
   "cell_type": "code",
   "execution_count": 7,
   "metadata": {},
   "outputs": [],
   "source": [
    "\n",
    "def generate_Lists(df):\n",
    "    \n",
    "    dict1 = {}\n",
    "    for col in df.columns:\n",
    "        if col in emo_cols:\n",
    "            dict1[col] =df['{}'.format(col)].tolist()\n",
    "            \n",
    "        \n",
    "    return dict1\n",
    "        "
   ]
  },
  {
   "cell_type": "code",
   "execution_count": 8,
   "metadata": {},
   "outputs": [],
   "source": [
    "def generate_TTest(dictNAR,dictAR,emo):\n",
    "    values_ar = dictAR[emo]\n",
    "    values_nar = dictNAR[emo]\n",
    "#     print(values_ar)\n",
    "#     print(values_nar)\n",
    "    ttest = scipy.stats.ttest_rel(values_nar, values_ar)\n",
    "    return ttest\n",
    "    "
   ]
  },
  {
   "cell_type": "code",
   "execution_count": 9,
   "metadata": {},
   "outputs": [],
   "source": [
    "def generate_Sec_TTest(dictNAR,dictAR, sec, emo):\n",
    "    values_ar = dictAR[sec][emo]\n",
    "    values_nar = dictNAR[sec][emo]\n",
    "#     print(values_ar)\n",
    "#     print(values_nar)\n",
    "    ttest = scipy.stats.ttest_rel(values_nar, values_ar)\n",
    "    return ttest"
   ]
  },
  {
   "cell_type": "code",
   "execution_count": null,
   "metadata": {},
   "outputs": [],
   "source": [
    "def plot_dist(dict1, dict2, emos):\n",
    "    \n",
    "    "
   ]
  },
  {
   "cell_type": "code",
   "execution_count": 10,
   "metadata": {},
   "outputs": [],
   "source": [
    "OverallEmosNar = ind_NAR.groupby(gp_cols1)[emo_cols].sum().reset_index()\n",
    "OverallEmosAr = ind_AR.groupby(gp_cols1)[emo_cols].sum().reset_index()\n"
   ]
  },
  {
   "cell_type": "code",
   "execution_count": 11,
   "metadata": {},
   "outputs": [],
   "source": [
    "Overall_AR_dict = generate_Lists(OverallEmosAr)\n",
    "Overall_NAR_dict= generate_Lists(OverallEmosNar)"
   ]
  },
  {
   "cell_type": "code",
   "execution_count": 12,
   "metadata": {},
   "outputs": [
    {
     "name": "stdout",
     "output_type": "stream",
     "text": [
      "Overall_Emotions\n",
      "Angry:Ttest_relResult(statistic=-0.4964605009924185, pvalue=0.6293409850203269)\n",
      "Disgust:Ttest_relResult(statistic=nan, pvalue=nan)\n",
      "Fear:Ttest_relResult(statistic=-1.0586926339547398, pvalue=0.3124343638976976)\n",
      "Happy:Ttest_relResult(statistic=-1.7427472971124987, pvalue=0.10922551063296668)\n",
      "Sad:Ttest_relResult(statistic=-2.277646416011241, pvalue=0.04371654119914509)\n",
      "Surprise:Ttest_relResult(statistic=-0.9244870247833691, pvalue=0.37506840863555324)\n",
      "Neutral:Ttest_relResult(statistic=-2.234315828589335, pvalue=0.04716856220052534)\n"
     ]
    }
   ],
   "source": [
    "print(\"Overall_Emotions\")\n",
    "for emo in emo_cols:\n",
    "    ttest = generate_TTest(Overall_NAR_dict,Overall_AR_dict, emo)\n",
    "    print(\"{}:{}\".format(emo, ttest))\n",
    "\n"
   ]
  },
  {
   "cell_type": "code",
   "execution_count": 13,
   "metadata": {},
   "outputs": [],
   "source": [
    "SecEmosNar = ind_NAR.groupby(gp_cols3)[emo_cols].sum().reset_index()\n",
    "SecEmosAr = ind_AR.groupby(gp_cols3)[emo_cols].sum().reset_index()\n"
   ]
  },
  {
   "cell_type": "code",
   "execution_count": 14,
   "metadata": {},
   "outputs": [],
   "source": [
    "sec_NAR_Dict = generaye_Sec_Lists(SecEmosNar)\n",
    "sec_AR_Dict = generaye_Sec_Lists(SecEmosAr)\n",
    "    "
   ]
  },
  {
   "cell_type": "code",
   "execution_count": 15,
   "metadata": {},
   "outputs": [
    {
     "name": "stdout",
     "output_type": "stream",
     "text": [
      "Section_0 Angry Ttest_relResult(statistic=-0.6158817620514396, pvalue=0.5505037156037171)\n",
      "Section_0 Disgust Ttest_relResult(statistic=nan, pvalue=nan)\n",
      "Section_0 Fear Ttest_relResult(statistic=0.6596283142139341, pvalue=0.523062864266289)\n",
      "Section_0 Happy Ttest_relResult(statistic=-1.5171158300917453, pvalue=0.1574379530538371)\n",
      "Section_0 Sad Ttest_relResult(statistic=-1.545266093802317, pvalue=0.1505495615173519)\n",
      "Section_0 Surprise Ttest_relResult(statistic=1.0, pvalue=0.3388006961962018)\n",
      "Section_0 Neutral Ttest_relResult(statistic=0.3157115690835667, pvalue=0.7581306099890808)\n",
      "Section_1 Angry Ttest_relResult(statistic=-0.9380831519646858, pvalue=0.3683425946590331)\n",
      "Section_1 Disgust Ttest_relResult(statistic=nan, pvalue=nan)\n",
      "Section_1 Fear Ttest_relResult(statistic=-0.11369243355522204, pvalue=0.9115301261676805)\n",
      "Section_1 Happy Ttest_relResult(statistic=-1.8171279038162689, pvalue=0.09651404525449232)\n",
      "Section_1 Sad Ttest_relResult(statistic=-2.176385720471089, pvalue=0.05219301701513079)\n",
      "Section_1 Surprise Ttest_relResult(statistic=1.0, pvalue=0.3388006961962018)\n",
      "Section_1 Neutral Ttest_relResult(statistic=-1.6086834656942788, pvalue=0.13598535377872437)\n",
      "Section_2 Angry Ttest_relResult(statistic=0.45273496010290487, pvalue=0.6595386521859337)\n",
      "Section_2 Disgust Ttest_relResult(statistic=nan, pvalue=nan)\n",
      "Section_2 Fear Ttest_relResult(statistic=2.2319309379201453, pvalue=0.047365955435106764)\n",
      "Section_2 Happy Ttest_relResult(statistic=-1.0414178310138225, pvalue=0.3200302485729337)\n",
      "Section_2 Sad Ttest_relResult(statistic=-0.10417146212791585, pvalue=0.9189083743694917)\n",
      "Section_2 Surprise Ttest_relResult(statistic=-0.8101386192121087, pvalue=0.4350367715669812)\n",
      "Section_2 Neutral Ttest_relResult(statistic=-2.70392994545843, pvalue=0.020512190336107593)\n",
      "Section_3 Angry Ttest_relResult(statistic=-0.5891316885069323, pvalue=0.5676747080572995)\n",
      "Section_3 Disgust Ttest_relResult(statistic=nan, pvalue=nan)\n",
      "Section_3 Fear Ttest_relResult(statistic=-1.2406802769069132, pvalue=0.2405337788631081)\n",
      "Section_3 Happy Ttest_relResult(statistic=-2.2626771107607646, pvalue=0.04488074735675254)\n",
      "Section_3 Sad Ttest_relResult(statistic=-1.396973730715645, pvalue=0.1899647719356345)\n",
      "Section_3 Surprise Ttest_relResult(statistic=-1.2459415925474562, pvalue=0.2386693781255853)\n",
      "Section_3 Neutral Ttest_relResult(statistic=-2.2153655141155433, pvalue=0.048759018270344255)\n"
     ]
    }
   ],
   "source": [
    "for sec in sections:\n",
    "    for emo in emo_cols:\n",
    "        ttest = generate_Sec_TTest(sec_NAR_Dict,sec_AR_Dict, sec, emo)\n",
    "        print(sec, emo, ttest)"
   ]
  },
  {
   "cell_type": "code",
   "execution_count": null,
   "metadata": {},
   "outputs": [],
   "source": [
    "# Density Plot and Histogram of all arrival delays\n",
    "sns.distplot(flights['arr_delay'], hist=True, kde=True, \n",
    "             bins=int(180/5), color = 'darkblue', \n",
    "             hist_kws={'edgecolor':'black'},\n",
    "             kde_kws={'linewidth': 4})"
   ]
  }
 ],
 "metadata": {
  "kernelspec": {
   "display_name": "Python 3",
   "language": "python",
   "name": "python3"
  },
  "language_info": {
   "codemirror_mode": {
    "name": "ipython",
    "version": 3
   },
   "file_extension": ".py",
   "mimetype": "text/x-python",
   "name": "python",
   "nbconvert_exporter": "python",
   "pygments_lexer": "ipython3",
   "version": "3.7.4"
  }
 },
 "nbformat": 4,
 "nbformat_minor": 4
}