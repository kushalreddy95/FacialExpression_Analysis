{
 "cells": [
  {
   "cell_type": "code",
   "execution_count": 1,
   "metadata": {},
   "outputs": [
    {
     "name": "stderr",
     "output_type": "stream",
     "text": [
      "Using TensorFlow backend.\n"
     ]
    }
   ],
   "source": [
    "import os\n",
    "import subprocess\n",
    "import sys\n",
    "import pandas as pd\n",
    "import cv2\n",
    "import numpy as np\n",
    "import matplotlib.pyplot as plt\n",
    "import seaborn as sns\n",
    "from datetime import datetime\n",
    "from keras.models import model_from_json\n",
    "from keras.preprocessing import image\n",
    "from scipy import stats\n",
    "\n",
    "%matplotlib inline"
   ]
  },
  {
   "cell_type": "code",
   "execution_count": 2,
   "metadata": {},
   "outputs": [],
   "source": [
    "face_haar_cascade = cv2.CascadeClassifier('haarcascade_frontalface_default.xml')"
   ]
  },
  {
   "cell_type": "code",
   "execution_count": 3,
   "metadata": {},
   "outputs": [
    {
     "data": {
      "text/plain": [
       "'/Users/kushalreddy_p/ASU Studies/ASU Work/CSI Lab/DataLogs/Log_Analyser/venv'"
      ]
     },
     "execution_count": 3,
     "metadata": {},
     "output_type": "execute_result"
    }
   ],
   "source": [
    "# os.chdir(\"../../\")\n",
    "os.getcwd()"
   ]
  },
  {
   "cell_type": "code",
   "execution_count": 4,
   "metadata": {
    "scrolled": true
   },
   "outputs": [
    {
     "name": "stdout",
     "output_type": "stream",
     "text": [
      "front-11-20-11-29-56.jpg\n",
      "OpenCV(4.1.2) /Users/travis/build/skvark/opencv-python/opencv/modules/imgproc/src/color.cpp:182: error: (-215:Assertion failed) !_src.empty() in function 'cvtColor'\n",
      "\n",
      "front-11-20-11-30-01.jpg\n",
      "OpenCV(4.1.2) /Users/travis/build/skvark/opencv-python/opencv/modules/imgproc/src/color.cpp:182: error: (-215:Assertion failed) !_src.empty() in function 'cvtColor'\n",
      "\n",
      "front-11-20-11-30-41.jpg\n",
      "OpenCV(4.1.2) /Users/travis/build/skvark/opencv-python/opencv/modules/imgproc/src/color.cpp:182: error: (-215:Assertion failed) !_src.empty() in function 'cvtColor'\n",
      "\n",
      "front-11-20-11-31-12.jpg\n",
      "OpenCV(4.1.2) /Users/travis/build/skvark/opencv-python/opencv/modules/imgproc/src/color.cpp:182: error: (-215:Assertion failed) !_src.empty() in function 'cvtColor'\n",
      "\n",
      "front-11-20-11-29-56.jpg\n",
      "OpenCV(4.1.2) /Users/travis/build/skvark/opencv-python/opencv/modules/imgproc/src/color.cpp:182: error: (-215:Assertion failed) !_src.empty() in function 'cvtColor'\n",
      "\n",
      "front-11-20-11-30-01.jpg\n",
      "OpenCV(4.1.2) /Users/travis/build/skvark/opencv-python/opencv/modules/imgproc/src/color.cpp:182: error: (-215:Assertion failed) !_src.empty() in function 'cvtColor'\n",
      "\n",
      "front-11-20-11-30-41.jpg\n",
      "OpenCV(4.1.2) /Users/travis/build/skvark/opencv-python/opencv/modules/imgproc/src/color.cpp:182: error: (-215:Assertion failed) !_src.empty() in function 'cvtColor'\n",
      "\n",
      "front-11-20-11-31-12.jpg\n",
      "OpenCV(4.1.2) /Users/travis/build/skvark/opencv-python/opencv/modules/imgproc/src/color.cpp:182: error: (-215:Assertion failed) !_src.empty() in function 'cvtColor'\n",
      "\n",
      "front-11-27-10-08-34.jpg\n",
      "OpenCV(4.1.2) /Users/travis/build/skvark/opencv-python/opencv/modules/imgproc/src/color.cpp:182: error: (-215:Assertion failed) !_src.empty() in function 'cvtColor'\n",
      "\n",
      "front-11-27-10-08-35.jpg\n",
      "OpenCV(4.1.2) /Users/travis/build/skvark/opencv-python/opencv/modules/imgproc/src/color.cpp:182: error: (-215:Assertion failed) !_src.empty() in function 'cvtColor'\n",
      "\n",
      "front-11-27-10-08-39.jpg\n",
      "OpenCV(4.1.2) /Users/travis/build/skvark/opencv-python/opencv/modules/imgproc/src/color.cpp:182: error: (-215:Assertion failed) !_src.empty() in function 'cvtColor'\n",
      "\n",
      "front-11-27-10-08-41.jpg\n",
      "OpenCV(4.1.2) /Users/travis/build/skvark/opencv-python/opencv/modules/imgproc/src/color.cpp:182: error: (-215:Assertion failed) !_src.empty() in function 'cvtColor'\n",
      "\n",
      "front-11-27-10-08-43.jpg\n",
      "OpenCV(4.1.2) /Users/travis/build/skvark/opencv-python/opencv/modules/imgproc/src/color.cpp:182: error: (-215:Assertion failed) !_src.empty() in function 'cvtColor'\n",
      "\n"
     ]
    }
   ],
   "source": [
    "BP_Data = []\n",
    "df_BP_NAR = []\n",
    "path = \"../../\"\n",
    "# subpath = \"\"\n",
    "os.chdir(path+\"AR_Less Data/\")\n",
    "users = subprocess.check_output('ls').splitlines()\n",
    "for user in users:\n",
    "    if(user.decode(\"utf-8\").startswith(\"User\")):\n",
    "        subpath = \"{}/img/\".format(user.decode(\"utf-8\"))\n",
    "        os.chdir(subpath)\n",
    "        sections = subprocess.check_output('ls').splitlines()\n",
    "        for section in sections:\n",
    "            subpath = \"{}\".format(section.decode(\"utf-8\"))\n",
    "            os.chdir(subpath)\n",
    "            images = subprocess.check_output('ls').splitlines()\n",
    "            for imagename in images:\n",
    "                imagename =imagename.decode(\"utf-8\")\n",
    "                img = cv2.imread(imagename)\n",
    "                gray_img = cv2.cvtColor(img, cv2.COLOR_BGR2GRAY)\n",
    "                faces_detected = face_haar_cascade.detectMultiScale(gray_img, 1.10, 5)\n",
    "#                 print(imagename)\n",
    "                for (x, y, w, h) in faces_detected:\n",
    "#                     print(imagename)\n",
    "                    try:\n",
    "                        img = img[y:y + w, x:x + h]  # cropping region of interest i.e. face area from  image\n",
    "                        image = cv2.cvtColor(img, cv2.COLOR_BGR2RGB)\n",
    "                        avg = np.average(image)\n",
    "                        BP_Data= [user.decode(\"utf-8\"), section.decode(\"utf-8\"), imagename, avg]\n",
    "                        df_BP_NAR.append(BP_Data)\n",
    "                        \n",
    "                    except Exception as e:\n",
    "                        print(imagename)\n",
    "                        print(e)\n",
    "                        \n",
    "            os.chdir(\"..\")\n",
    "        os.chdir(\"../..\")\n",
    "        \n",
    "# Convert the list of records to DataFrame\n",
    "\n",
    "df_BP_NAR = pd.DataFrame(df_BP_NAR, columns = ['User', 'Section', 'ImageName', 'Brightness' ])\n",
    "\n",
    "#                         plt.hist(img.ravel(),256,[0,256])\n",
    "#                         plt.show()\n",
    "#                         plt.hist(image.ravel(),256,[0,256])\n",
    "#                         plt.show()\n",
    "#                         pixels = np.array(image)\n",
    "#                         plt.imshow(pixels)\n",
    "#                         plt.show()"
   ]
  },
  {
   "cell_type": "code",
   "execution_count": 5,
   "metadata": {
    "scrolled": true
   },
   "outputs": [
    {
     "name": "stdout",
     "output_type": "stream",
     "text": [
      "front-05-11-21-28-37.jpg\n",
      "OpenCV(4.1.2) /Users/travis/build/skvark/opencv-python/opencv/modules/imgproc/src/color.cpp:182: error: (-215:Assertion failed) !_src.empty() in function 'cvtColor'\n",
      "\n",
      "front-05-11-21-29-37.jpg\n",
      "OpenCV(4.1.2) /Users/travis/build/skvark/opencv-python/opencv/modules/imgproc/src/color.cpp:182: error: (-215:Assertion failed) !_src.empty() in function 'cvtColor'\n",
      "\n",
      "front-05-11-21-30-18.jpg\n",
      "OpenCV(4.1.2) /Users/travis/build/skvark/opencv-python/opencv/modules/imgproc/src/color.cpp:182: error: (-215:Assertion failed) !_src.empty() in function 'cvtColor'\n",
      "\n",
      "front-05-11-21-30-52.jpg\n",
      "OpenCV(4.1.2) /Users/travis/build/skvark/opencv-python/opencv/modules/imgproc/src/color.cpp:182: error: (-215:Assertion failed) !_src.empty() in function 'cvtColor'\n",
      "\n",
      "front-11-26-10-08-55.jpg\n",
      "OpenCV(4.1.2) /Users/travis/build/skvark/opencv-python/opencv/modules/imgproc/src/color.cpp:182: error: (-215:Assertion failed) !_src.empty() in function 'cvtColor'\n",
      "\n",
      "front-11-26-10-12-37.jpg\n",
      "OpenCV(4.1.2) /Users/travis/build/skvark/opencv-python/opencv/modules/imgproc/src/color.cpp:182: error: (-215:Assertion failed) !_src.empty() in function 'cvtColor'\n",
      "\n",
      "front-11-26-10-12-42.jpg\n",
      "OpenCV(4.1.2) /Users/travis/build/skvark/opencv-python/opencv/modules/imgproc/src/color.cpp:182: error: (-215:Assertion failed) !_src.empty() in function 'cvtColor'\n",
      "\n",
      "front-11-26-10-13-28.jpg\n",
      "OpenCV(4.1.2) /Users/travis/build/skvark/opencv-python/opencv/modules/imgproc/src/color.cpp:182: error: (-215:Assertion failed) !_src.empty() in function 'cvtColor'\n",
      "\n",
      "front-11-26-10-13-35.jpg\n",
      "OpenCV(4.1.2) /Users/travis/build/skvark/opencv-python/opencv/modules/imgproc/src/color.cpp:182: error: (-215:Assertion failed) !_src.empty() in function 'cvtColor'\n",
      "\n",
      "front-11-26-10-14-21.jpg\n",
      "OpenCV(4.1.2) /Users/travis/build/skvark/opencv-python/opencv/modules/imgproc/src/color.cpp:182: error: (-215:Assertion failed) !_src.empty() in function 'cvtColor'\n",
      "\n",
      "front-11-26-15-59-44.jpg\n",
      "OpenCV(4.1.2) /Users/travis/build/skvark/opencv-python/opencv/modules/imgproc/src/color.cpp:182: error: (-215:Assertion failed) !_src.empty() in function 'cvtColor'\n",
      "\n",
      "front-11-26-16-00-37.jpg\n",
      "OpenCV(4.1.2) /Users/travis/build/skvark/opencv-python/opencv/modules/imgproc/src/color.cpp:182: error: (-215:Assertion failed) !_src.empty() in function 'cvtColor'\n",
      "\n",
      "front-11-26-16-09-08.jpg\n",
      "OpenCV(4.1.2) /Users/travis/build/skvark/opencv-python/opencv/modules/imgproc/src/color.cpp:182: error: (-215:Assertion failed) !_src.empty() in function 'cvtColor'\n",
      "\n",
      "front-11-26-16-09-10.jpg\n",
      "OpenCV(4.1.2) /Users/travis/build/skvark/opencv-python/opencv/modules/imgproc/src/color.cpp:182: error: (-215:Assertion failed) !_src.empty() in function 'cvtColor'\n",
      "\n",
      "front-11-26-16-09-11.jpg\n",
      "OpenCV(4.1.2) /Users/travis/build/skvark/opencv-python/opencv/modules/imgproc/src/color.cpp:182: error: (-215:Assertion failed) !_src.empty() in function 'cvtColor'\n",
      "\n",
      "front-11-26-16-09-12.jpg\n",
      "OpenCV(4.1.2) /Users/travis/build/skvark/opencv-python/opencv/modules/imgproc/src/color.cpp:182: error: (-215:Assertion failed) !_src.empty() in function 'cvtColor'\n",
      "\n",
      "front-11-26-16-09-13.jpg\n",
      "OpenCV(4.1.2) /Users/travis/build/skvark/opencv-python/opencv/modules/imgproc/src/color.cpp:182: error: (-215:Assertion failed) !_src.empty() in function 'cvtColor'\n",
      "\n",
      "front-11-26-16-09-14.jpg\n",
      "OpenCV(4.1.2) /Users/travis/build/skvark/opencv-python/opencv/modules/imgproc/src/color.cpp:182: error: (-215:Assertion failed) !_src.empty() in function 'cvtColor'\n",
      "\n",
      "front-11-26-16-09-52.jpg\n",
      "OpenCV(4.1.2) /Users/travis/build/skvark/opencv-python/opencv/modules/imgproc/src/color.cpp:182: error: (-215:Assertion failed) !_src.empty() in function 'cvtColor'\n",
      "\n"
     ]
    }
   ],
   "source": [
    "BP_Data = []\n",
    "df_BP_AR = []\n",
    "path = \"../\"\n",
    "# subpath = \"\"\n",
    "os.chdir(path+\"AR Data/\")\n",
    "users = subprocess.check_output('ls').splitlines()\n",
    "for user in users:\n",
    "    if(user.decode(\"utf-8\").startswith(\"User\")):\n",
    "        subpath = \"{}/img/\".format(user.decode(\"utf-8\"))\n",
    "        os.chdir(subpath)\n",
    "        sections = subprocess.check_output('ls').splitlines()\n",
    "        for section in sections:\n",
    "            subpath = \"{}\".format(section.decode(\"utf-8\"))\n",
    "            os.chdir(subpath)\n",
    "            images = subprocess.check_output('ls').splitlines()\n",
    "            for imagename in images:\n",
    "                imagename =imagename.decode(\"utf-8\")\n",
    "                img = cv2.imread(imagename)\n",
    "                gray_img = cv2.cvtColor(img, cv2.COLOR_BGR2GRAY)\n",
    "                faces_detected = face_haar_cascade.detectMultiScale(gray_img, 1.10, 5)\n",
    "#                 print(imagename)\n",
    "                for (x, y, w, h) in faces_detected:\n",
    "#                     print(imagename)\n",
    "                    try:\n",
    "                        img = img[y:y + w, x:x + h]  # cropping region of interest i.e. face area from  image\n",
    "                        image = cv2.cvtColor(img, cv2.COLOR_BGR2RGB)\n",
    "                        avg = np.average(image)\n",
    "                        BP_Data= [user.decode(\"utf-8\"), section.decode(\"utf-8\"), imagename, avg]\n",
    "                        df_BP_AR.append(BP_Data)\n",
    "                        \n",
    "                    except Exception as e:\n",
    "                        print(imagename)\n",
    "                        print(e)\n",
    "                        \n",
    "            os.chdir(\"..\")\n",
    "        os.chdir(\"../..\")\n",
    "        \n",
    "# Convert the list of records to DataFrame\n",
    "\n",
    "df_BP_AR = pd.DataFrame(df_BP_AR, columns = ['User', 'Section', 'ImageName', 'Brightness' ])"
   ]
  },
  {
   "cell_type": "code",
   "execution_count": 6,
   "metadata": {},
   "outputs": [],
   "source": [
    "mapping = {'User_2': \"User_1\", 'User_3': \"User_2\", 'User_4': \"User_3\", 'User_5': \"User_4\", 'User_6': \"User_5\", 'User_7': \"User_6\", 'User_8': \"User_7\", 'User_9': \"User_8\", 'User_10': \"User_9\",'User_11': \"User_10\",'User_12': \"User_11\",'User_13': \"User_12\",}\n",
    "\n",
    "section_BP_NAR = df_BP_NAR.copy()\n",
    "section_BP_NAR = section_BP_NAR[section_BP_NAR['User'] != \"User_1\"]\n",
    "section_BP_NAR['User'] = section_BP_NAR['User'].apply(lambda x: mapping[x])\n",
    "\n",
    "section_BP_AR = df_BP_AR.copy()\n",
    "section_BP_AR = section_BP_AR[section_BP_AR['User'] != \"User_1\"]\n",
    "section_BP_AR['User'] = section_BP_AR['User'].apply(lambda x: mapping[x])\n",
    "\n"
   ]
  },
  {
   "cell_type": "code",
   "execution_count": 7,
   "metadata": {},
   "outputs": [],
   "source": [
    "section_BP_NAR.to_csv('/Users/kushalreddy_p/ASU Studies/ASU Work/CSI Lab/DataLogs/DataSet/BP_NAR.csv')\n",
    "section_BP_AR.to_csv('/Users/kushalreddy_p/ASU Studies/ASU Work/CSI Lab/DataLogs/DataSet/BP_AR.csv')"
   ]
  },
  {
   "cell_type": "code",
   "execution_count": 9,
   "metadata": {},
   "outputs": [],
   "source": [
    "\n",
    "z_score = section_BP_NAR.loc[section_BP_NAR['User'] == 'User_1'][['Brightness']]\n",
    "z = np.abs(stats.zscore(z_score['Brightness']))\n",
    "bp1 = section_BP_NAR.loc[section_BP_NAR['User'] == 'User_1'][z<1]\n",
    "\n",
    "\n",
    "z_score = section_BP_NAR.loc[section_BP_NAR['User'] == 'User_2'][['Brightness']]\n",
    "z = np.abs(stats.zscore(z_score['Brightness']))\n",
    "bp1 = bp1.append(section_BP_NAR.loc[section_BP_NAR['User'] == 'User_2'][z<1])\n",
    "\n",
    "\n",
    "z_score = section_BP_NAR.loc[section_BP_NAR['User'] == 'User_3'][['Brightness']]\n",
    "z = np.abs(stats.zscore(z_score['Brightness']))\n",
    "bp1 = bp1.append(section_BP_NAR.loc[section_BP_NAR['User'] == 'User_3'][z<1])\n",
    "\n",
    "\n",
    "z_score = section_BP_NAR.loc[section_BP_NAR['User'] == 'User_4'][['Brightness']]\n",
    "z = np.abs(stats.zscore(z_score['Brightness']))\n",
    "bp1 = bp1.append(section_BP_NAR.loc[section_BP_NAR['User'] == 'User_4'][z<1])\n",
    "\n",
    "\n",
    "z_score = section_BP_NAR.loc[section_BP_NAR['User'] == 'User_5'][['Brightness']]\n",
    "z = np.abs(stats.zscore(z_score['Brightness']))\n",
    "bp1 = bp1.append(section_BP_NAR.loc[section_BP_NAR['User'] == 'User_5'][z<1])\n",
    "\n",
    "\n",
    "z_score = section_BP_NAR.loc[section_BP_NAR['User'] == 'User_6'][['Brightness']]\n",
    "z = np.abs(stats.zscore(z_score['Brightness']))\n",
    "bp1 = bp1.append(section_BP_NAR.loc[section_BP_NAR['User'] == 'User_6'][z<1])\n",
    "\n",
    "\n",
    "z_score = section_BP_NAR.loc[section_BP_NAR['User'] == 'User_7'][['Brightness']]\n",
    "z = np.abs(stats.zscore(z_score['Brightness']))\n",
    "bp1 = bp1.append(section_BP_NAR.loc[section_BP_NAR['User'] == 'User_7'][z<1])\n",
    "\n",
    "z_score = section_BP_NAR.loc[section_BP_NAR['User'] == 'User_8'][['Brightness']]\n",
    "z = np.abs(stats.zscore(z_score['Brightness']))\n",
    "bp1 = bp1.append(section_BP_NAR.loc[section_BP_NAR['User'] == 'User_8'][z<1])\n",
    "\n",
    "\n",
    "z_score = section_BP_NAR.loc[section_BP_NAR['User'] == 'User_9'][['Brightness']]\n",
    "z = np.abs(stats.zscore(z_score['Brightness']))\n",
    "bp1 = bp1.append(section_BP_NAR.loc[section_BP_NAR['User'] == 'User_9'][z<1])\n",
    "\n",
    "z_score = section_BP_NAR.loc[section_BP_NAR['User'] == 'User_10'][['Brightness']]\n",
    "z = np.abs(stats.zscore(z_score['Brightness']))\n",
    "bp1 = bp1.append(section_BP_NAR.loc[section_BP_NAR['User'] == 'User_10'][z<1])\n",
    "\n",
    "\n",
    "z_score = section_BP_NAR.loc[section_BP_NAR['User'] == 'User_11'][['Brightness']]\n",
    "z = np.abs(stats.zscore(z_score['Brightness']))\n",
    "bp1 = bp1.append(section_BP_NAR.loc[section_BP_NAR['User'] == 'User_11'][z<1])\n",
    "\n",
    "\n",
    "z_score = section_BP_NAR.loc[section_BP_NAR['User'] == 'User_12'][['Brightness']]\n",
    "z = np.abs(stats.zscore(z_score['Brightness']))\n",
    "bp1 = bp1.append(section_BP_NAR.loc[section_BP_NAR['User'] == 'User_12'][z<1])\n"
   ]
  },
  {
   "cell_type": "code",
   "execution_count": 10,
   "metadata": {},
   "outputs": [],
   "source": [
    "z_score = section_BP_AR.loc[section_BP_AR['User'] == 'User_1'][['Brightness']]\n",
    "z = np.abs(stats.zscore(z_score['Brightness']))\n",
    "bp2 = section_BP_AR.loc[section_BP_AR['User'] == 'User_1'][z<1]\n",
    "\n",
    "\n",
    "z_score = section_BP_AR.loc[section_BP_AR['User'] == 'User_2'][['Brightness']]\n",
    "z = np.abs(stats.zscore(z_score['Brightness']))\n",
    "bp2 = bp2.append(section_BP_AR.loc[section_BP_AR['User'] == 'User_2'][z<1])\n",
    "\n",
    "\n",
    "z_score = section_BP_AR.loc[section_BP_AR['User'] == 'User_3'][['Brightness']]\n",
    "z = np.abs(stats.zscore(z_score['Brightness']))\n",
    "bp2 = bp2.append(section_BP_AR.loc[section_BP_AR['User'] == 'User_3'][z<1])\n",
    "\n",
    "\n",
    "z_score = section_BP_AR.loc[section_BP_AR['User'] == 'User_4'][['Brightness']]\n",
    "z = np.abs(stats.zscore(z_score['Brightness']))\n",
    "bp2 = bp2.append(section_BP_AR.loc[section_BP_AR['User'] == 'User_4'][z<1])\n",
    "\n",
    "\n",
    "z_score = section_BP_AR.loc[section_BP_AR['User'] == 'User_5'][['Brightness']]\n",
    "z = np.abs(stats.zscore(z_score['Brightness']))\n",
    "bp2 = bp2.append(section_BP_AR.loc[section_BP_AR['User'] == 'User_5'][z<1])\n",
    "\n",
    "\n",
    "z_score = section_BP_AR.loc[section_BP_AR['User'] == 'User_6'][['Brightness']]\n",
    "z = np.abs(stats.zscore(z_score['Brightness']))\n",
    "bp2 = bp2.append(section_BP_AR.loc[section_BP_AR['User'] == 'User_6'][z<1])\n",
    "\n",
    "\n",
    "z_score = section_BP_AR.loc[section_BP_AR['User'] == 'User_7'][['Brightness']]\n",
    "z = np.abs(stats.zscore(z_score['Brightness']))\n",
    "bp2 = bp2.append(section_BP_AR.loc[section_BP_AR['User'] == 'User_7'][z<1])\n",
    "\n",
    "\n",
    "z_score = section_BP_AR.loc[section_BP_AR['User'] == 'User_8'][['Brightness']]\n",
    "z = np.abs(stats.zscore(z_score['Brightness']))\n",
    "bp2 = bp2.append(section_BP_AR.loc[section_BP_AR['User'] == 'User_8'][z<1])\n",
    "\n",
    "\n",
    "z_score = section_BP_AR.loc[section_BP_AR['User'] == 'User_9'][['Brightness']]\n",
    "z = np.abs(stats.zscore(z_score['Brightness']))\n",
    "bp2 = bp2.append(section_BP_AR.loc[section_BP_AR['User'] == 'User_9'][z<1])\n",
    "\n",
    "\n",
    "z_score = section_BP_AR.loc[section_BP_AR['User'] == 'User_10'][['Brightness']]\n",
    "z = np.abs(stats.zscore(z_score['Brightness']))\n",
    "bp2 = bp2.append(section_BP_AR.loc[section_BP_AR['User'] == 'User_10'][z<1])\n",
    "\n",
    "\n",
    "z_score = section_BP_AR.loc[section_BP_AR['User'] == 'User_11'][['Brightness']]\n",
    "z = np.abs(stats.zscore(z_score['Brightness']))\n",
    "bp2 = bp2.append(section_BP_AR.loc[section_BP_AR['User'] == 'User_11'][z<1])\n",
    "\n",
    "\n",
    "z_score = section_BP_AR.loc[section_BP_AR['User'] == 'User_12'][['Brightness']]\n",
    "z = np.abs(stats.zscore(z_score['Brightness']))\n",
    "bp2 = bp2.append(section_BP_AR.loc[section_BP_AR['User'] == 'User_12'][z<1])"
   ]
  },
  {
   "cell_type": "code",
   "execution_count": 11,
   "metadata": {},
   "outputs": [
    {
     "data": {
      "text/plain": [
       "Text(0.5, -5.5, '')"
      ]
     },
     "execution_count": 11,
     "metadata": {},
     "output_type": "execute_result"
    },
    {
     "data": {
      "image/png": "[encoded data removed]",
      "text/plain": [
       "<Figure size 864x144 with 2 Axes>"
      ]
     },
     "metadata": {},
     "output_type": "display_data"
    }
   ],
   "source": [
    "gp_cols1 = ['User', 'd_ts']\n",
    "gp_cols2 = ['User']\n",
    "gp_cols3 = ['d_ts']\n",
    "gp_cols4 = ['User', 'Section']\n",
    "gp_cols5 = ['Section']\n",
    "\n",
    "sns.set(font_scale=1)\n",
    "#xticks = np.array([\"Sec1_T1\",\"Sec1_T2\",\"Sec1_T3\",\"Sec2_T1\",\"Sec2_T2\",\"Sec2_T3\",\"Sec3_T1\",\"Sec3_T2\", \"Sec3_T3\",\"Sec4_T1\",\"Sec4_T2\",\"Sec4_T3\"])\n",
    "yticks =np.array([\"Brightness\"])\n",
    "\n",
    "fig, axes = plt.subplots(figsize=(12, 2))\n",
    "req_cols = ['Brightness']\n",
    "total_brigtness_NAR = bp1.groupby(gp_cols4)[req_cols].sum()\n",
    "total_brigtness_AR = bp2.groupby(gp_cols4)[req_cols].sum()\n",
    "\n",
    "total_brigtness_NAR = total_brigtness_NAR.groupby(gp_cols2).apply(\n",
    "    lambda x: x / x.values.sum())\n",
    "total_brigtness_AR = total_brigtness_AR.groupby(gp_cols2).apply(\n",
    "    lambda x: x / x.values.sum())\n",
    "\n",
    "total_brigtness_NAR = total_brigtness_NAR.groupby(gp_cols5).sum()\n",
    "total_brigtness_AR = total_brigtness_AR.groupby(gp_cols5).sum()\n",
    "\n",
    "total_brightness = total_brigtness_NAR.merge( total_brigtness_AR, on= 'Section', how='left')\n",
    "total_brightness = total_brightness.rename(columns={\"Brightness_x\": \"Non-AR\", \"Brightness_y\": \"AR\"})\n",
    "ax = sns.heatmap(total_brightness.transpose(),  cmap='PuBu', annot = True,fmt='g')\n",
    "ax.set_ylabel('')    \n",
    "ax.set_xlabel('')\n",
    "\n",
    "# ax.set_xticklabels(['', 'S1', '', '', 'S2', '', '', 'S3', '', '', 'S4', ''])"
   ]
  },
  {
   "cell_type": "code",
   "execution_count": null,
   "metadata": {},
   "outputs": [],
   "source": []
  },
  {
   "cell_type": "code",
   "execution_count": null,
   "metadata": {},
   "outputs": [],
   "source": [
    "# fmt = '%Y-front-%m-%d-%H-%M-%S.jpg'\n",
    "\n",
    "# section_BP_NAR['timestamp'] = section_BP_NAR['ImageName'].apply(lambda x: datetime.strptime('2019-'+x, fmt))\n",
    "# section_BP_AR['timestamp'] = section_BP_AR['ImageName'].apply(lambda x: datetime.strptime('2019-'+x, fmt))"
   ]
  },
  {
   "cell_type": "code",
   "execution_count": null,
   "metadata": {},
   "outputs": [],
   "source": [
    "# rt = section_BP_NAR.groupby(['User','Section']).apply(\n",
    "#     lambda x: (\n",
    "#         ( (x['timestamp'] - x['timestamp'].min()).apply(lambda x: x.seconds) ) / \n",
    "#         ( (x['timestamp'].max() - x['timestamp'].min()).seconds )\n",
    "#     )\n",
    "# )\n",
    "# section_BP_NAR['n_ts'] = section_BP_NAR.apply(lambda x: rt.loc[ x['User'], x['Section'] ][x.name], axis=1)\n",
    "\n",
    "\n",
    "# rt = section_BP_AR.groupby(['User','Section']).apply(\n",
    "#     lambda x: (\n",
    "#         ( (x['timestamp'] - x['timestamp'].min()).apply(lambda x: x.seconds) ) / \n",
    "#         ( (x['timestamp'].max() - x['timestamp'].min()).seconds )\n",
    "#     )\n",
    "# )\n",
    "# section_BP_AR['n_ts'] = section_BP_AR.apply(lambda x: rt.loc[ x['User'], x['Section'] ][x.name], axis=1)\n",
    "\n"
   ]
  },
  {
   "cell_type": "code",
   "execution_count": null,
   "metadata": {},
   "outputs": [],
   "source": [
    "# section_BP_NAR[['n_ts']] = section_BP_NAR[['n_ts']].replace([np.nan], [1])\n",
    "# section_BP_AR[['n_ts']] = section_BP_AR[['n_ts']].replace([np.nan], [1])"
   ]
  },
  {
   "cell_type": "code",
   "execution_count": null,
   "metadata": {},
   "outputs": [],
   "source": [
    "# section_BP_NAR['n_ts'] = section_BP_NAR['n_ts'].astype(float)\n",
    "# section_BP_AR['n_ts'] = section_BP_AR['n_ts'].astype(float)"
   ]
  },
  {
   "cell_type": "code",
   "execution_count": null,
   "metadata": {},
   "outputs": [],
   "source": [
    "# for index, gdf in section_BP_NAR.groupby([\"User\"]):\n",
    "#     tmp = gdf.copy()\n",
    "#     tmp.loc[gdf[\"Section\"] == \"Section_1\", \"n_ts\"] += 1\n",
    "#     tmp.loc[gdf[\"Section\"] == \"Section_2\", \"n_ts\"] += 2\n",
    "#     tmp.loc[gdf[\"Section\"] == \"Section_3\", \"n_ts\"] += 3\n",
    "#     section_BP_NAR.loc[gdf.index, 'd_ts'] = tmp['n_ts']\n",
    "    \n",
    "# for index, gdf in section_BP_AR.groupby([\"User\"]):\n",
    "#     tmp = gdf.copy()\n",
    "#     tmp.loc[gdf[\"Section\"] == \"Section_1\", \"n_ts\"] += 1\n",
    "#     tmp.loc[gdf[\"Section\"] == \"Section_2\", \"n_ts\"] += 2\n",
    "#     tmp.loc[gdf[\"Section\"] == \"Section_3\", \"n_ts\"] += 3\n",
    "#     section_BP_AR.loc[gdf.index, 'd_ts'] = tmp['n_ts']"
   ]
  },
  {
   "cell_type": "code",
   "execution_count": null,
   "metadata": {
    "scrolled": true
   },
   "outputs": [],
   "source": [
    "# # section_BP_NAR['d_ts'] = pd.cut(section_BP_NAR['d_ts'], bins=12)\n",
    "# # section_BP_AR['d_ts'] = pd.cut(section_BP_AR['d_ts'], bins=12)\n",
    "# gp_cols1 = ['User', 'd_ts']\n",
    "# gp_cols2 = ['User']\n",
    "# gp_cols3 = ['d_ts']\n",
    "# gp_cols4 = ['User', 'Section']\n",
    "\n",
    "# sns.set(font_scale=1)\n",
    "# #xticks = np.array([\"Sec1_T1\",\"Sec1_T2\",\"Sec1_T3\",\"Sec2_T1\",\"Sec2_T2\",\"Sec2_T3\",\"Sec3_T1\",\"Sec3_T2\", \"Sec3_T3\",\"Sec4_T1\",\"Sec4_T2\",\"Sec4_T3\"])\n",
    "# yticks =np.array([\"Brightness\"])\n",
    "\n",
    "# fig, axes = plt.subplots(figsize=(12, 2))\n",
    "# req_cols = ['Brightness']\n",
    "# total_brigtness_NAR = section_BP_NAR.groupby(gp_cols3)[req_cols].mean()\n",
    "# total_brigtness_AR = section_BP_AR.groupby(gp_cols3)[req_cols].mean()\n",
    "# total_brightness = total_brigtness_NAR.merge( total_brigtness_AR, on= 'd_ts', how='left')\n",
    "# total_brightness = total_brightness.rename(columns={\"Brightness_x\": \"Non-AR\", \"Brightness_y\": \"AR\"})\n",
    "# ax = sns.heatmap(total_brightness.transpose(),  cmap='PuBu', vmin=95,vmax=115, annot = True,fmt='g')\n",
    "# ax.set_ylabel('')    \n",
    "# ax.set_xlabel('')\n",
    "\n",
    "# ax.set_xticklabels(['', 'S1', '', '', 'S2', '', '', 'S3', '', '', 'S4', ''])\n"
   ]
  },
  {
   "cell_type": "code",
   "execution_count": 12,
   "metadata": {},
   "outputs": [],
   "source": [
    "# trail1 = section_BP_NAR.loc[section_BP_NAR['User'] == 'User_9'][['Section','Brightness','d_ts']]\n",
    "\n",
    "# fig, ax = plt.subplots(figsize=(16,8))\n",
    "# ax.scatter(trail1['d_ts'], trail1['Brightness'])\n",
    "# ax.set_xlabel('Time')\n",
    "# ax.set_ylabel('Brightness')\n",
    "# plt.show()"
   ]
  },
  {
   "cell_type": "code",
   "execution_count": null,
   "metadata": {
    "pycharm": {
     "name": "#%%\n"
    }
   },
   "outputs": [],
   "source": [
    "# trail2 = bp1.loc[bp1['User'] == 'User_9'][['Section','Brightness','d_ts']]\n",
    "\n",
    "# fig, ax = plt.subplots(figsize=(16,8))\n",
    "# ax.scatter(trail2['d_ts'], trail2['Brightness'])\n",
    "# ax.set_xlabel('Time')\n",
    "# ax.set_ylabel('Brightness')\n",
    "# plt.show()"
   ]
  }
 ],
 "metadata": {
  "kernelspec": {
   "display_name": "Python 3",
   "language": "python",
   "name": "python3"
  },
  "language_info": {
   "codemirror_mode": {
    "name": "ipython",
    "version": 3
   },
   "file_extension": ".py",
   "mimetype": "text/x-python",
   "name": "python",
   "nbconvert_exporter": "python",
   "pygments_lexer": "ipython3",
   "version": "3.7.4"
  }
 },
 "nbformat": 4,
 "nbformat_minor": 1
}